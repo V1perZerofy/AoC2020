{
 "cells": [
  {
   "cell_type": "code",
   "execution_count": 2,
   "metadata": {},
   "outputs": [
    {
     "name": "stdout",
     "output_type": "stream",
     "text": [
      "244\n",
      "9406609920\n"
     ]
    }
   ],
   "source": [
    "my_file = open('Day3.txt', 'r')\n",
    "data = my_file.read().split('\\n')\n",
    "\n",
    "# Part 1\n",
    "def count_trees(data, right, down):\n",
    "    trees = 0\n",
    "    x = 0\n",
    "    y = 0\n",
    "    while y < len(data):\n",
    "        if data[y][x % len(data[0])] == '#':\n",
    "            trees += 1\n",
    "        x += right\n",
    "        y += down\n",
    "    return trees\n",
    "\n",
    "print(count_trees(data, 3, 1))\n",
    "\n",
    "# Part 2\n",
    "print(count_trees(data, 1, 1) * count_trees(data, 3, 1) * count_trees(data, 5, 1) * count_trees(data, 7, 1) * count_trees(data, 1, 2))"
   ]
  },
  {
   "cell_type": "code",
   "execution_count": null,
   "metadata": {},
   "outputs": [],
   "source": []
  }
 ],
 "metadata": {
  "kernelspec": {
   "display_name": "base",
   "language": "python",
   "name": "python3"
  },
  "language_info": {
   "codemirror_mode": {
    "name": "ipython",
    "version": 3
   },
   "file_extension": ".py",
   "mimetype": "text/x-python",
   "name": "python",
   "nbconvert_exporter": "python",
   "pygments_lexer": "ipython3",
   "version": "3.9.13"
  },
  "orig_nbformat": 4
 },
 "nbformat": 4,
 "nbformat_minor": 2
}
