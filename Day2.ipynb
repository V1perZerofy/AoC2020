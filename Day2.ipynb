{
 "cells": [
  {
   "cell_type": "code",
   "execution_count": 4,
   "metadata": {},
   "outputs": [
    {
     "name": "stdout",
     "output_type": "stream",
     "text": [
      "643\n"
     ]
    }
   ],
   "source": [
    "my_file = open('Day2.txt', 'r')\n",
    "data = my_file.read().split('\\n')\n",
    "\n",
    "# Part 1\n",
    "valid = 0\n",
    "for line in data:\n",
    "    line = line.split()\n",
    "    min, max = line[0].split('-')\n",
    "    min = int(min)\n",
    "    max = int(max)\n",
    "    letter = line[1][0]\n",
    "    password = line[2]\n",
    "    count = password.count(letter)\n",
    "    if count >= min and count <= max:\n",
    "        valid += 1\n",
    "\n",
    "print(valid)\n",
    "\n",
    "# Part 2\n",
    "valid2 = 0\n",
    "for line in data:\n",
    "    line = line.split()\n",
    "    min, max = line[0].split('-')\n",
    "    min = int(min)\n",
    "    max = int(max)\n",
    "    letter = line[1][0]\n",
    "    password = line[2]\n",
    "    if (password[min-1] == letter) ^ (password[max-1] == letter):\n",
    "        valid2 += 1"
   ]
  },
  {
   "cell_type": "code",
   "execution_count": 5,
   "metadata": {},
   "outputs": [
    {
     "data": {
      "text/plain": [
       "388"
      ]
     },
     "execution_count": 5,
     "metadata": {},
     "output_type": "execute_result"
    }
   ],
   "source": [
    "valid2"
   ]
  },
  {
   "cell_type": "code",
   "execution_count": null,
   "metadata": {},
   "outputs": [],
   "source": []
  }
 ],
 "metadata": {
  "kernelspec": {
   "display_name": "base",
   "language": "python",
   "name": "python3"
  },
  "language_info": {
   "codemirror_mode": {
    "name": "ipython",
    "version": 3
   },
   "file_extension": ".py",
   "mimetype": "text/x-python",
   "name": "python",
   "nbconvert_exporter": "python",
   "pygments_lexer": "ipython3",
   "version": "3.9.13"
  },
  "orig_nbformat": 4
 },
 "nbformat": 4,
 "nbformat_minor": 2
}
