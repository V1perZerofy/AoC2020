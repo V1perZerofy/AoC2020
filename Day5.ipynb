{
 "cells": [
  {
   "cell_type": "code",
   "execution_count": 54,
   "metadata": {},
   "outputs": [],
   "source": [
    "with open(\"Day5.txt\") as f:\n",
    "    data = f.read().splitlines()"
   ]
  },
  {
   "cell_type": "code",
   "execution_count": 55,
   "metadata": {},
   "outputs": [],
   "source": [
    "binary_row = []\n",
    "binary_col = []\n",
    "for line in range(len(data)):\n",
    "    data[line] = data[line].replace(\"F\", \"0\").replace(\"B\", \"1\").replace(\"L\", \"0\").replace(\"R\", \"1\")\n",
    "    binary_row.append(data[line][:7])\n",
    "    binary_col.append(data[line][7:])\n",
    "    binary_row[line] = int(binary_row[line], 2)\n",
    "    binary_col[line] = int(binary_col[line], 2)"
   ]
  },
  {
   "cell_type": "code",
   "execution_count": 56,
   "metadata": {},
   "outputs": [],
   "source": [
    "seat_ids = []\n",
    "for i in binary_row:\n",
    "    seat_ids.append(i * 8 + binary_col[i])"
   ]
  },
  {
   "cell_type": "code",
   "execution_count": 57,
   "metadata": {},
   "outputs": [
    {
     "name": "stdout",
     "output_type": "stream",
     "text": [
      "837\n"
     ]
    }
   ],
   "source": [
    "print(max(seat_ids))"
   ]
  },
  {
   "cell_type": "code",
   "execution_count": 60,
   "metadata": {},
   "outputs": [
    {
     "name": "stdout",
     "output_type": "stream",
     "text": [
      "517\n"
     ]
    }
   ],
   "source": [
    "import numpy as np\n",
    "seat_ids = np.sort(seat_ids)\n",
    "for i in range(len(seat_ids)):\n",
    "    if seat_ids[i] + 1 != seat_ids[i + 1]:\n",
    "        print(seat_ids[i] + 1)\n",
    "        break"
   ]
  },
  {
   "cell_type": "code",
   "execution_count": 59,
   "metadata": {},
   "outputs": [
    {
     "name": "stdout",
     "output_type": "stream",
     "text": [
      "832\n"
     ]
    }
   ],
   "source": [
    "# Day 5 Part 1\n",
    "# Path: Day5.ipynb\n",
    "with open(\"Day5.txt\") as f:\n",
    "    data = f.read().splitlines()   \n",
    "\n",
    "def get_seat_id(seat):\n",
    "    row = int(seat[:7].replace(\"F\", \"0\").replace(\"B\", \"1\"), 2)\n",
    "    col = int(seat[7:].replace(\"L\", \"0\").replace(\"R\", \"1\"), 2)\n",
    "    return row * 8 + col\n",
    "\n",
    "seat_ids = [get_seat_id(seat) for seat in data]\n",
    "print(max(seat_ids))"
   ]
  },
  {
   "cell_type": "code",
   "execution_count": null,
   "metadata": {},
   "outputs": [],
   "source": []
  }
 ],
 "metadata": {
  "kernelspec": {
   "display_name": "base",
   "language": "python",
   "name": "python3"
  },
  "language_info": {
   "codemirror_mode": {
    "name": "ipython",
    "version": 3
   },
   "file_extension": ".py",
   "mimetype": "text/x-python",
   "name": "python",
   "nbconvert_exporter": "python",
   "pygments_lexer": "ipython3",
   "version": "3.9.13"
  },
  "orig_nbformat": 4
 },
 "nbformat": 4,
 "nbformat_minor": 2
}
